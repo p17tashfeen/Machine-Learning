{
 "cells": [
  {
   "cell_type": "code",
   "execution_count": 4,
   "metadata": {},
   "outputs": [],
   "source": [
    "X = [1, 2, 3, 4, 5, 6, 7, 8, 9, 10]\n",
    "y = [0, 0, 0, 1, 0, 1, 1, 1, 0, 1]"
   ]
  },
  {
   "cell_type": "code",
   "execution_count": 53,
   "metadata": {},
   "outputs": [],
   "source": [
    "import math\n",
    "def logistic_regression(theta_0, theta_1):\n",
    "    #hypothesis\n",
    "    pred_y = []\n",
    "    for x in X:\n",
    "        tmp = theta_0 + theta_1 * x\n",
    "        tmp = 1 / (1 + pow(math.e, -tmp))\n",
    "        pred_y.append(tmp)\n",
    "    print('predicted values: ', pred_y)\n",
    "    \n",
    "    #cost function\n",
    "    m = len(X)\n",
    "    tmp = 0\n",
    "    cost = 0\n",
    "    for i in range(m):\n",
    "        if y[i] == 0 and pred_y[i] >= 0.5:\n",
    "            cost += 100\n",
    "        if y[i] == 1 and pred_y[i] < 0.5:\n",
    "            cost += 100\n",
    "            \n",
    "    cost = cost / m\n",
    "    print('cost: ', cost)\n",
    "        \n",
    "    #gradient descent\n",
    "    alpha = 0.35 #learning rate\n",
    "    tmp_0 = 0; tmp_1 = 0;\n",
    "    \n",
    "    for i in range(m):\n",
    "        tmp_0 += pred_y[i] - y[i]\n",
    "        tmp_1 += (pred_y[i] - y[i])*X[i] #regularization ( + lambda * (theta_1)**2)\n",
    "    tmp_0 = alpha*(1/m)*tmp_0\n",
    "    tmp_1 = alpha*(1/m)*tmp_1\n",
    "            \n",
    "    theta_0 = theta_0 - tmp_0\n",
    "    theta_1 = theta_1 - tmp_1\n",
    "    \n",
    "    print(theta_0,',', theta_1)"
   ]
  },
  {
   "cell_type": "code",
   "execution_count": 72,
   "metadata": {},
   "outputs": [
    {
     "name": "stdout",
     "output_type": "stream",
     "text": [
      "predicted values:  [0.49876250252681414, 0.49877500245101497, 0.498787502376747, 0.4988000023039947, 0.49881250223274237, 0.49882500216297443, 0.49883750209467514, 0.49885000202782903, 0.4988625019624203, 0.4988750018984336]\n",
      "cost:  50.0\n",
      "-0.0045865632713175996 , 0.2647878084593165\n"
     ]
    }
   ],
   "source": [
    "logistic_regression(-0.005, 0.00005)"
   ]
  },
  {
   "cell_type": "code",
   "execution_count": null,
   "metadata": {},
   "outputs": [],
   "source": []
  },
  {
   "cell_type": "code",
   "execution_count": null,
   "metadata": {},
   "outputs": [],
   "source": []
  }
 ],
 "metadata": {
  "kernelspec": {
   "display_name": "Python 3",
   "language": "python",
   "name": "python3"
  },
  "language_info": {
   "codemirror_mode": {
    "name": "ipython",
    "version": 3
   },
   "file_extension": ".py",
   "mimetype": "text/x-python",
   "name": "python",
   "nbconvert_exporter": "python",
   "pygments_lexer": "ipython3",
   "version": "3.7.4"
  }
 },
 "nbformat": 4,
 "nbformat_minor": 2
}
