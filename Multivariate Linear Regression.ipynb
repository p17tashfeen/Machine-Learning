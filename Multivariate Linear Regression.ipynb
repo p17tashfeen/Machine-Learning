{
 "cells": [
  {
   "cell_type": "code",
   "execution_count": 6,
   "metadata": {},
   "outputs": [],
   "source": [
    "X = [[1, 1], [2, 2], [3, 3], [4, 4], [5, 5], [6, 6], [7, 8],  [8, 8], [9, 9], [10, 9]]\n",
    "y = [2.0, 3.1, 4.4, 5.2, 6.8, 7.1, 8.2, 9.0, 10.5, 11.3]"
   ]
  },
  {
   "cell_type": "code",
   "execution_count": 7,
   "metadata": {},
   "outputs": [],
   "source": [
    "def linear_regression(theta_0, theta_1, theta_2):\n",
    "    #hypothesis\n",
    "    pred_y = []\n",
    "    for x in X:\n",
    "        tmp = theta_0 + theta_1 * x[0] + theta_2 * x[1]\n",
    "        pred_y.append(tmp)\n",
    "    print('predicted values: ', pred_y)\n",
    "    \n",
    "    #cost function\n",
    "    m = len(X)\n",
    "    tmp = 0\n",
    "    cost = 0\n",
    "    for i in range(m):\n",
    "        tmp += (pred_y[i] - y[i])**2\n",
    "    cost = tmp/(2*m)\n",
    "    print('cost: ', cost)\n",
    "        \n",
    "    #gradient descent\n",
    "    alpha = 0.01 #learning rate\n",
    "    tmp_0 = 0; tmp_1 = 0; tmp_2 = 0\n",
    "    \n",
    "    for i in range(m):\n",
    "        tmp_0 += pred_y[i] - y[i]\n",
    "        tmp_1 += (pred_y[i] - y[i]) * X[i][0]\n",
    "        tmp_2 += (pred_y[i] - y[i]) * X[i][1]\n",
    "        \n",
    "    tmp_0 = alpha * ( 1 / m) * tmp_0\n",
    "    tmp_1 = alpha * ( 1 / m) * tmp_1\n",
    "    tmp_2 = alpha * ( 1 / m) * tmp_2\n",
    "            \n",
    "    theta_0 = theta_0 - tmp_0\n",
    "    theta_1 = theta_1 - tmp_1\n",
    "    theta_2 = theta_2 - tmp_2\n",
    "    \n",
    "    print(theta_0,',', theta_1, ',', theta_2)"
   ]
  },
  {
   "cell_type": "code",
   "execution_count": 10,
   "metadata": {},
   "outputs": [
    {
     "name": "stdout",
     "output_type": "stream",
     "text": [
      "predicted values:  [2.8772918, 3.9672161, 5.0571404, 6.1470647, 7.2369889999999995, 8.326913300000001, 9.964325599999999, 10.5067619, 11.5966862, 12.1391225]\n",
      "cost:  0.5918384393483124\n",
      "1.7771479884999999 , 0.48185269599999997 , 0.48597919289999997\n"
     ]
    }
   ],
   "source": [
    "linear_regression(1.7873675 , 0.5424363 , 0.547488)"
   ]
  },
  {
   "cell_type": "code",
   "execution_count": null,
   "metadata": {},
   "outputs": [],
   "source": []
  }
 ],
 "metadata": {
  "kernelspec": {
   "display_name": "Python 3",
   "language": "python",
   "name": "python3"
  },
  "language_info": {
   "codemirror_mode": {
    "name": "ipython",
    "version": 3
   },
   "file_extension": ".py",
   "mimetype": "text/x-python",
   "name": "python",
   "nbconvert_exporter": "python",
   "pygments_lexer": "ipython3",
   "version": "3.7.4"
  }
 },
 "nbformat": 4,
 "nbformat_minor": 2
}
