{
 "cells": [
  {
   "cell_type": "code",
   "execution_count": 8,
   "metadata": {},
   "outputs": [],
   "source": [
    "X = [1, 2, 3, 4, 5, 6, 7, 8, 9, 10]\n",
    "y = [2.0, 3.1, 4.4, 5.2, 6.8, 7.1, 8.2, 9.0, 10.5, 11.3]"
   ]
  },
  {
   "cell_type": "code",
   "execution_count": 15,
   "metadata": {},
   "outputs": [
    {
     "data": {
      "image/png": "[encoded data removed]",
      "text/plain": [
       "<Figure size 432x288 with 1 Axes>"
      ]
     },
     "metadata": {
      "needs_background": "light"
     },
     "output_type": "display_data"
    }
   ],
   "source": [
    "import matplotlib.pyplot as plt\n",
    "%matplotlib inline\n",
    "plt.scatter(X, y, marker = 'o', color = 'blue')\n",
    "plt.show()\n"
   ]
  },
  {
   "cell_type": "code",
   "execution_count": 16,
   "metadata": {},
   "outputs": [],
   "source": [
    "def linear_regression(theta_0, theta_1, theta_2):\n",
    "    #hypothesis\n",
    "    pred_y = []\n",
    "    for x in X:\n",
    "        tmp = theta_0 + theta_1 * x + theta_2 * (x)**2\n",
    "        pred_y.append(tmp)\n",
    "    print('predicted values: ', pred_y)\n",
    "    \n",
    "    #cost function\n",
    "    m = len(X)\n",
    "    tmp = 0\n",
    "    cost = 0\n",
    "    for i in range(m):\n",
    "        tmp += (pred_y[i] - y[i])**2\n",
    "    cost = tmp/(2*m)\n",
    "    print('cost: ', cost)\n",
    "        \n",
    "    #gradient descent\n",
    "    alpha = 0.01 #learning rate\n",
    "    tmp_0 = 0; tmp_1 = 0; tmp_2 = 0\n",
    "    \n",
    "    for i in range(m):\n",
    "        tmp_0 += pred_y[i] - y[i]\n",
    "        tmp_1 += (pred_y[i] - y[i]) * X[i]\n",
    "        tmp_2 += (pred_y[i] - y[i]) * (X[i])**2\n",
    "        \n",
    "    tmp_0 = alpha * ( 1 / m) * tmp_0\n",
    "    tmp_1 = alpha * ( 1 / m) * tmp_1\n",
    "    tmp_2 = alpha * ( 1 / m) * tmp_2\n",
    "            \n",
    "    theta_0 = theta_0 - tmp_0\n",
    "    theta_1 = theta_1 - tmp_1\n",
    "    theta_2 = theta_2 - tmp_2\n",
    "    \n",
    "    import matplotlib.pyplot as plt\n",
    "    %matplotlib inline\n",
    "    plt.scatter(X, y, marker = 'o', color = 'blue')\n",
    "    plt.plot(X, pred_y, marker = 'o', color = 'red')\n",
    "    plt.show()\n",
    "\n",
    "    \n",
    "    print(theta_0,',', theta_1, ',', theta_2)"
   ]
  },
  {
   "cell_type": "code",
   "execution_count": 17,
   "metadata": {},
   "outputs": [
    {
     "name": "stdout",
     "output_type": "stream",
     "text": [
      "predicted values:  [6, 14, 26, 42, 62, 86, 114, 146, 182, 222]\n",
      "cost:  5749.861999999999\n"
     ]
    },
    {
     "data": {
      "image/png": "[encoded data removed]",
      "text/plain": [
       "<Figure size 432x288 with 1 Axes>"
      ]
     },
     "metadata": {
      "needs_background": "light"
     },
     "output_type": "display_data"
    },
    {
     "name": "stdout",
     "output_type": "stream",
     "text": [
      "1.1675999999999997 , -4.4743 , -51.9649\n"
     ]
    }
   ],
   "source": [
    "linear_regression(2, 2, 2)"
   ]
  },
  {
   "cell_type": "code",
   "execution_count": null,
   "metadata": {},
   "outputs": [],
   "source": []
  }
 ],
 "metadata": {
  "kernelspec": {
   "display_name": "Python 3",
   "language": "python",
   "name": "python3"
  },
  "language_info": {
   "codemirror_mode": {
    "name": "ipython",
    "version": 3
   },
   "file_extension": ".py",
   "mimetype": "text/x-python",
   "name": "python",
   "nbconvert_exporter": "python",
   "pygments_lexer": "ipython3",
   "version": "3.7.4"
  }
 },
 "nbformat": 4,
 "nbformat_minor": 2
}
