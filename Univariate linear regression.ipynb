{
 "cells": [
  {
   "cell_type": "code",
   "execution_count": 1,
   "metadata": {},
   "outputs": [],
   "source": [
    "X = [1, 2, 3, 4, 5, 6, 7, 8, 9, 10]\n",
    "y = [2.0, 3.1, 4.4, 5.2, 6.8, 7.1, 8.2, 9.0, 10.5, 11.3]"
   ]
  },
  {
   "cell_type": "code",
   "execution_count": 14,
   "metadata": {},
   "outputs": [],
   "source": [
    "def linear_regression(theta_0, theta_1):\n",
    "    #hypothesis\n",
    "    pred_y = []\n",
    "    for x in X:\n",
    "        tmp = theta_0 + theta_1 * x\n",
    "        pred_y.append(tmp)\n",
    "    print('predicted values: ', pred_y)\n",
    "    \n",
    "    #cost function\n",
    "    m = len(X)\n",
    "    tmp = 0\n",
    "    cost = 0\n",
    "    for i in range(m):\n",
    "        tmp += (pred_y[i] - y[i])**2\n",
    "    cost = tmp/(2*m)\n",
    "    print('cost: ', cost)\n",
    "        \n",
    "    #gradient descent\n",
    "    alpha = 0.01 #learning rate\n",
    "    tmp_0 = 0; tmp_1 = 0;\n",
    "    for i in range(m):\n",
    "        tmp_0 += pred_y[i] - y[i]\n",
    "        tmp_1 += (pred_y[i] - y[i])*X[i]\n",
    "    tmp_0 = alpha*(1/m)*tmp_0\n",
    "    tmp_1 = alpha*(1/m)*tmp_1\n",
    "            \n",
    "    theta_0 = theta_0 - tmp_0\n",
    "    theta_1 = theta_1 - tmp_1\n",
    "    \n",
    "    print(theta_0,',', theta_1)"
   ]
  },
  {
   "cell_type": "code",
   "execution_count": 24,
   "metadata": {},
   "outputs": [
    {
     "name": "stdout",
     "output_type": "stream",
     "text": [
      "predicted values:  [8.619025683834984, 8.777477995426244, 8.935930307017506, 9.094382618608767, 9.252834930200027, 9.411287241791289, 9.56973955338255, 9.728191864973812, 9.886644176565072, 10.045096488156334]\n",
      "cost:  6.3751011528714345\n",
      "8.434852761383766 , 0.0878166361552209\n"
     ]
    }
   ],
   "source": [
    "linear_regression(8.460573372243722 , 0.15845231159126116)"
   ]
  },
  {
   "cell_type": "code",
   "execution_count": null,
   "metadata": {},
   "outputs": [],
   "source": []
  }
 ],
 "metadata": {
  "kernelspec": {
   "display_name": "Python 3",
   "language": "python",
   "name": "python3"
  },
  "language_info": {
   "codemirror_mode": {
    "name": "ipython",
    "version": 3
   },
   "file_extension": ".py",
   "mimetype": "text/x-python",
   "name": "python",
   "nbconvert_exporter": "python",
   "pygments_lexer": "ipython3",
   "version": "3.7.4"
  }
 },
 "nbformat": 4,
 "nbformat_minor": 2
}
